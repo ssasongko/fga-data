{
 "cells": [
  {
   "cell_type": "code",
   "execution_count": null,
   "metadata": {},
   "outputs": [],
   "source": [
    "import numpy as np\n",
    "import pandas as pd\n",
    "import requests\n",
    "resp_jabar = requests.get('https://storage.googleapis.com/dqlab-dataset/prov_detail_JAWA_BARAT.json', verify=False)\n",
    "cov_jabar_raw = resp_jabar.json()\n",
    "cov_jabar = pd.DataFrame(cov_jabar_raw['list_perkembangan'])\n",
    "\n",
    "cov_jabar_tidy = (cov_jabar.drop(columns=[item for item in cov_jabar.columns \n",
    "                                               if item.startswith('AKUMULASI') \n",
    "                                                  or item.startswith('DIRAWAT')])\n",
    "                           .rename(columns=str.lower)\n",
    "                           .rename(columns={'kasus': 'kasus_baru'})\n",
    "                  )\n",
    "cov_jabar_tidy['tanggal'] = pd.to_datetime(cov_jabar_tidy['tanggal']*1e6, unit='ns')\n",
    "\n",
    "cov_jabar_akumulasi = cov_jabar_tidy[['tanggal']].copy()\n",
    "cov_jabar_akumulasi['akumulasi_aktif'] = (cov_jabar_tidy['kasus_baru'] - cov_jabar_tidy['sembuh'] - cov_jabar_tidy['meninggal']).cumsum()\n",
    "cov_jabar_akumulasi['akumulasi_sembuh'] = cov_jabar_tidy['sembuh'].cumsum()\n",
    "cov_jabar_akumulasi['akumulasi_meninggal'] = cov_jabar_tidy['meninggal'].cumsum()\n",
    "\n",
    "import matplotlib.pyplot as plt\n",
    "import matplotlib.dates as mdates\n",
    "\n",
    "plt.clf()\n",
    "fig, ax = plt.subplots(figsize=(10,5))\n",
    "ax.plot('tanggal', 'akumulasi_aktif', data=cov_jabar_akumulasi, lw=2)\n",
    "\n",
    "ax.set_title('Akumulasi aktif COVID-19 di Jawa Barat',\n",
    "             fontsize=22)\n",
    "ax.set_xlabel('')\n",
    "ax.set_ylabel('Akumulasi aktif')\n",
    "ax.text(1, -0.3, 'Sumber data: covid.19.go.id', color='blue',\n",
    "        ha='right', transform=ax.transAxes)\n",
    "ax.set_xticklabels(ax.get_xticks(), rotation=90)\n",
    "\n",
    "ax.xaxis.set_major_locator(mdates.MonthLocator())\n",
    "ax.xaxis.set_major_formatter(mdates.DateFormatter('%b %Y'))\n",
    "\n",
    "plt.grid()\n",
    "plt.tight_layout()\n",
    "plt.show()"
   ]
  }
 ],
 "metadata": {
  "kernelspec": {
   "display_name": "Python 3.10.7 64-bit",
   "language": "python",
   "name": "python3"
  },
  "language_info": {
   "name": "python",
   "version": "3.10.7"
  },
  "orig_nbformat": 4,
  "vscode": {
   "interpreter": {
    "hash": "b0470c863150a70b59e25264f5c3524fc14a49e18ffb8d6315441fd22cb04718"
   }
  }
 },
 "nbformat": 4,
 "nbformat_minor": 2
}
